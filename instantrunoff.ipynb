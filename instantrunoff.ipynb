{
 "cells": [
  {
   "cell_type": "code",
   "execution_count": 1,
   "metadata": {
    "collapsed": false
   },
   "outputs": [
    {
     "name": "stdout",
     "output_type": "stream",
     "text": [
      "array([[  7.,   2.,   8.,   4.,   3.,   1.,   6.,   5.,  nan,  nan],\n",
      "       [ nan,   1.,   2.,  nan,  nan,  nan,  nan,  nan,  nan,  nan],\n",
      "       [  3.,   4.,   2.,   6.,  nan,  nan,   1.,   5.,   8.,   7.],\n",
      "       [ nan,  nan,   3.,   6.,  nan,  nan,   1.,   2.,   4.,   5.],\n",
      "       [  1.,   7.,   5.,   6.,  10.,   9.,   8.,   4.,   3.,   2.],\n",
      "       [ nan,  nan,  nan,  nan,  10.,  nan,  nan,  nan,  nan,  nan],\n",
      "       [ nan,   1.,  nan,  nan,   2.,  nan,   3.,   4.,   5.,  nan],\n",
      "       [ nan,  nan,  nan,   2.,   3.,   1.,  nan,  nan,  nan,  nan],\n",
      "       [  1.,   7.,   4.,   5.,   6.,   8.,   2.,   3.,   9.,  10.],\n",
      "       [ nan,   1.,  nan,   7.,   6.,   4.,  nan,   5.,   3.,   2.],\n",
      "       [  6.,   9.,   4.,   5.,  10.,   8.,   3.,   1.,   7.,   2.],\n",
      "       [ nan,   2.,  nan,   1.,   4.,   3.,  nan,   5.,   6.,   7.],\n",
      "       [  3.,   1.,   4.,   9.,  10.,   8.,   7.,   2.,   6.,   5.],\n",
      "       [ 10.,   5.,   9.,   8.,   7.,   2.,   6.,   4.,   3.,   1.],\n",
      "       [  2.,   1.,  nan,  nan,   4.,   3.,  nan,  nan,  nan,  nan],\n",
      "       [  4.,  nan,   2.,   3.,  nan,  nan,   1.,  nan,  nan,  nan],\n",
      "       [  7.,   3.,   4.,   8.,  10.,   9.,   1.,   2.,   5.,   6.],\n",
      "       [  7.,   4.,   3.,  10.,   9.,   8.,   1.,   2.,   6.,   5.],\n",
      "       [ nan,  nan,  nan,  nan,  nan,  nan,  nan,   1.,  nan,  nan],\n",
      "       [ nan,   4.,   6.,  nan,   8.,   5.,   3.,   7.,   2.,   1.],\n",
      "       [ nan,  nan,   3.,   6.,  nan,  nan,   1.,   2.,   4.,   5.],\n",
      "       [  8.,   3.,   6.,   7.,  10.,   9.,   5.,   4.,   2.,   1.],\n",
      "       [ nan,   5.,   7.,  nan,   8.,   6.,   2.,   1.,   4.,   3.],\n",
      "       [  5.,  nan,   2.,  nan,  nan,  nan,  nan,   1.,   4.,   3.],\n",
      "       [  1.,   8.,   4.,   2.,  10.,   9.,   5.,   3.,   6.,   7.],\n",
      "       [ 10.,   9.,   8.,   7.,   6.,   5.,   2.,   1.,   3.,   4.],\n",
      "       [  5.,  nan,   1.,   2.,  nan,   6.,   4.,   3.,   7.,   8.],\n",
      "       [  9.,   3.,   2.,  10.,   4.,   8.,   1.,   6.,   7.,   5.],\n",
      "       [  6.,   2.,   5.,   4.,   3.,   1.,   7.,   8.,   9.,  10.],\n",
      "       [  6.,   9.,   8.,  10.,   2.,   7.,   1.,   3.,   4.,   5.]])\n"
     ]
    }
   ],
   "source": [
    "import random\n",
    "from pprint import pprint\n",
    "import copy\n",
    "import numpy as np\n",
    "\n",
    "num_candidates=10\n",
    "\n",
    "voterpref_list_original = np.genfromtxt('Student-Invited Speaker Voting 2017.csv', delimiter=',', skip_header=1, usecols=np.arange(1,num_candidates+1))\n",
    "pprint(voterpref_list_original)"
   ]
  },
  {
   "cell_type": "code",
   "execution_count": 2,
   "metadata": {
    "collapsed": false
   },
   "outputs": [],
   "source": [
    "def runoff(voterpref_list):\n",
    "    winner = False\n",
    "    while not winner:\n",
    "        # determine how many first-choice votes each candidate has\n",
    "        candidate_votes = [0 for i in range(0,num_candidates)]\n",
    "        for voterpref in voterpref_list:\n",
    "            for candidate,rank in enumerate(voterpref):\n",
    "                if rank == np.nanmin(voterpref):\n",
    "                    candidate_votes[candidate] += 1\n",
    "                    break;\n",
    "        print('The number of first place votes is currently:')\n",
    "        pprint(candidate_votes)\n",
    "\n",
    "        # determine if a candidate has the majority of first-place votes and has won\n",
    "        winner = False\n",
    "        num_activevotes = sum(candidate_votes)\n",
    "        for candidate,num_firstplacevotes in enumerate(candidate_votes):\n",
    "            if num_firstplacevotes > num_activevotes / 2:\n",
    "                print('the winner is candidate #' + str(candidate))\n",
    "                winner = True\n",
    "                break;\n",
    "        if (not winner):\n",
    "            print('no winner yet!')\n",
    "        else:\n",
    "            break;\n",
    "\n",
    "        # determine the candidates with the fewest first-place votes\n",
    "        round_loser_list = []\n",
    "        round_vote_threshold = sum(candidate_votes)\n",
    "        for candidate,num_firstplacevotes in enumerate(candidate_votes):\n",
    "            if candidate_status[candidate] == 1:\n",
    "                if num_firstplacevotes < round_vote_threshold:\n",
    "                    round_vote_threshold = num_firstplacevotes\n",
    "\n",
    "        for candidate,num_firstplacevotes in enumerate(candidate_votes):\n",
    "            if candidate_status[candidate] == 1:\n",
    "                if num_firstplacevotes == round_vote_threshold:\n",
    "                    round_loser_list.append(candidate)\n",
    "        #pprint(round_loser_list)\n",
    "\n",
    "        # if there are multiple losers, randomly eliminate one\n",
    "        round_loser = random.sample(round_loser_list,1)[0]\n",
    "        candidate_status[round_loser] = 0\n",
    "        if len(round_loser_list) > 1:\n",
    "            print('#' + str(round_loser) + ' eliminated using random number generation')\n",
    "        else:\n",
    "            print('#' + str(round_loser) + ' eliminated')\n",
    "        print('')\n",
    "        #pprint(candidate_status)\n",
    "\n",
    "        # eliminate the loser from all voters' preferences\n",
    "        for voterpref in voterpref_list:\n",
    "            voterpref[round_loser] = 'nan'\n"
   ]
  },
  {
   "cell_type": "code",
   "execution_count": 3,
   "metadata": {
    "collapsed": false
   },
   "outputs": [
    {
     "name": "stdout",
     "output_type": "stream",
     "text": [
      "The number of first place votes is currently:\n",
      "[3, 5, 1, 1, 1, 3, 8, 5, 0, 3]\n",
      "no winner yet!\n",
      "#8 eliminated\n",
      "\n",
      "The number of first place votes is currently:\n",
      "[3, 5, 1, 1, 1, 3, 8, 5, 0, 3]\n",
      "no winner yet!\n",
      "#3 eliminated using random number generation\n",
      "\n",
      "The number of first place votes is currently:\n",
      "[3, 6, 1, 0, 1, 3, 8, 5, 0, 3]\n",
      "no winner yet!\n",
      "#4 eliminated using random number generation\n",
      "\n",
      "The number of first place votes is currently:\n",
      "[3, 6, 1, 0, 0, 3, 8, 5, 0, 3]\n",
      "no winner yet!\n",
      "#2 eliminated\n",
      "\n",
      "The number of first place votes is currently:\n",
      "[3, 6, 0, 0, 0, 3, 8, 6, 0, 3]\n",
      "no winner yet!\n",
      "#5 eliminated using random number generation\n",
      "\n",
      "The number of first place votes is currently:\n",
      "[3, 8, 0, 0, 0, 0, 8, 6, 0, 3]\n",
      "no winner yet!\n",
      "#0 eliminated using random number generation\n",
      "\n",
      "The number of first place votes is currently:\n",
      "[0, 8, 0, 0, 0, 0, 9, 7, 0, 4]\n",
      "no winner yet!\n",
      "#9 eliminated\n",
      "\n",
      "The number of first place votes is currently:\n",
      "[0, 9, 0, 0, 0, 0, 10, 9, 0, 0]\n",
      "no winner yet!\n",
      "#7 eliminated using random number generation\n",
      "\n",
      "The number of first place votes is currently:\n",
      "[0, 11, 0, 0, 0, 0, 15, 0, 0, 0]\n",
      "the winner is candidate #6\n"
     ]
    },
    {
     "name": "stderr",
     "output_type": "stream",
     "text": [
      "/Users/efrembraun/miniconda3/lib/python3.5/site-packages/numpy/lib/nanfunctions.py:227: RuntimeWarning: All-NaN axis encountered\n",
      "  warnings.warn(\"All-NaN axis encountered\", RuntimeWarning)\n"
     ]
    }
   ],
   "source": [
    "candidate_status = [1 for i in range(0,num_candidates)]\n",
    "voterpref_list = copy.copy(voterpref_list_original) # So the original list doesn't get altered\n",
    "\n",
    "# If you want to remove candidates from the pool before voting starts: (e.g., here I do so for candidates 1 and 0)\n",
    "#candidate_status[1]=0\n",
    "#candidate_status[0]=0\n",
    "#for voterpref in voterpref_list:\n",
    "#    voterpref[1] = 'nan'\n",
    "#    voterpref[0] = 'nan'\n",
    "\n",
    "runoff(voterpref_list)"
   ]
  },
  {
   "cell_type": "markdown",
   "metadata": {},
   "source": [
    "Candidate #6 wins.\n",
    "But what if candidate #1 had been eliminated instead of #7 in the 2nd to last step?"
   ]
  },
  {
   "cell_type": "code",
   "execution_count": 4,
   "metadata": {
    "collapsed": false
   },
   "outputs": [
    {
     "name": "stdout",
     "output_type": "stream",
     "text": [
      "The number of first place votes is currently:\n",
      "[4, 0, 2, 1, 2, 3, 8, 6, 0, 4]\n",
      "no winner yet!\n",
      "#8 eliminated\n",
      "\n",
      "The number of first place votes is currently:\n",
      "[4, 0, 2, 1, 2, 3, 8, 6, 0, 4]\n",
      "no winner yet!\n",
      "#3 eliminated\n",
      "\n",
      "The number of first place votes is currently:\n",
      "[4, 0, 2, 0, 2, 4, 8, 6, 0, 4]\n",
      "no winner yet!\n",
      "#2 eliminated using random number generation\n",
      "\n",
      "The number of first place votes is currently:\n",
      "[4, 0, 0, 0, 2, 4, 8, 7, 0, 4]\n",
      "no winner yet!\n",
      "#4 eliminated\n",
      "\n",
      "The number of first place votes is currently:\n",
      "[4, 0, 0, 0, 0, 4, 9, 7, 0, 4]\n",
      "no winner yet!\n",
      "#9 eliminated using random number generation\n",
      "\n",
      "The number of first place votes is currently:\n",
      "[4, 0, 0, 0, 0, 6, 10, 8, 0, 0]\n",
      "no winner yet!\n",
      "#0 eliminated\n",
      "\n",
      "The number of first place votes is currently:\n",
      "[0, 0, 0, 0, 0, 7, 11, 10, 0, 0]\n",
      "no winner yet!\n",
      "#5 eliminated\n",
      "\n",
      "The number of first place votes is currently:\n",
      "[0, 0, 0, 0, 0, 0, 12, 14, 0, 0]\n",
      "the winner is candidate #7\n"
     ]
    },
    {
     "name": "stderr",
     "output_type": "stream",
     "text": [
      "/Users/efrembraun/miniconda3/lib/python3.5/site-packages/numpy/lib/nanfunctions.py:227: RuntimeWarning: All-NaN axis encountered\n",
      "  warnings.warn(\"All-NaN axis encountered\", RuntimeWarning)\n"
     ]
    }
   ],
   "source": [
    "candidate_status = [1 for i in range(0,num_candidates)]\n",
    "voterpref_list = copy.copy(voterpref_list_original) # So the original list doesn't get altered\n",
    "\n",
    "# If you want to remove candidates from the pool before voting starts:\n",
    "candidate_status[1]=0\n",
    "for voterpref in voterpref_list:\n",
    "    voterpref[1] = 'nan'\n",
    "\n",
    "runoff(voterpref_list)"
   ]
  },
  {
   "cell_type": "markdown",
   "metadata": {
    "collapsed": true
   },
   "source": [
    "Then candidate #7 wins. I consider candidate #7 to be a more valid winner than #6 because when the two go head-to-head, candidate #7 wins.\n",
    "Who comes in 2nd place if candidate #7 isn't available?"
   ]
  },
  {
   "cell_type": "code",
   "execution_count": 5,
   "metadata": {
    "collapsed": false
   },
   "outputs": [
    {
     "name": "stdout",
     "output_type": "stream",
     "text": [
      "The number of first place votes is currently:\n",
      "[3, 5, 2, 1, 1, 3, 10, 0, 0, 4]\n",
      "no winner yet!\n",
      "#8 eliminated\n",
      "\n",
      "The number of first place votes is currently:\n",
      "[3, 5, 2, 1, 1, 3, 10, 0, 0, 4]\n",
      "no winner yet!\n",
      "#4 eliminated using random number generation\n",
      "\n",
      "The number of first place votes is currently:\n",
      "[3, 5, 2, 1, 0, 3, 10, 0, 0, 4]\n",
      "no winner yet!\n",
      "#3 eliminated\n",
      "\n",
      "The number of first place votes is currently:\n",
      "[3, 6, 2, 0, 0, 3, 10, 0, 0, 4]\n",
      "no winner yet!\n",
      "#2 eliminated\n",
      "\n",
      "The number of first place votes is currently:\n",
      "[3, 6, 0, 0, 0, 3, 11, 0, 0, 5]\n",
      "no winner yet!\n",
      "#5 eliminated using random number generation\n",
      "\n",
      "The number of first place votes is currently:\n",
      "[3, 8, 0, 0, 0, 0, 11, 0, 0, 5]\n",
      "no winner yet!\n",
      "#0 eliminated\n",
      "\n",
      "The number of first place votes is currently:\n",
      "[0, 8, 0, 0, 0, 0, 13, 0, 0, 6]\n",
      "no winner yet!\n",
      "#9 eliminated\n",
      "\n",
      "The number of first place votes is currently:\n",
      "[0, 11, 0, 0, 0, 0, 15, 0, 0, 0]\n",
      "the winner is candidate #6\n"
     ]
    },
    {
     "name": "stderr",
     "output_type": "stream",
     "text": [
      "/Users/efrembraun/miniconda3/lib/python3.5/site-packages/numpy/lib/nanfunctions.py:227: RuntimeWarning: All-NaN axis encountered\n",
      "  warnings.warn(\"All-NaN axis encountered\", RuntimeWarning)\n"
     ]
    }
   ],
   "source": [
    "candidate_status = [1 for i in range(0,num_candidates)]\n",
    "voterpref_list = copy.copy(voterpref_list_original) # So the original list doesn't get altered\n",
    "\n",
    "# If you want to remove candidates from the pool before voting starts:\n",
    "candidate_status[7]=0\n",
    "for voterpref in voterpref_list:\n",
    "    voterpref[7] = 'nan'\n",
    "\n",
    "runoff(voterpref_list)"
   ]
  },
  {
   "cell_type": "markdown",
   "metadata": {},
   "source": [
    "Candidate #6 wins. Who comes in 3rd place if candidates #7 and #6 aren't available?"
   ]
  },
  {
   "cell_type": "code",
   "execution_count": 6,
   "metadata": {
    "collapsed": false
   },
   "outputs": [
    {
     "name": "stdout",
     "output_type": "stream",
     "text": [
      "The number of first place votes is currently:\n",
      "[3, 6, 8, 1, 2, 3, 0, 0, 1, 5]\n",
      "no winner yet!\n",
      "#3 eliminated using random number generation\n",
      "\n",
      "The number of first place votes is currently:\n",
      "[3, 7, 8, 0, 2, 3, 0, 0, 1, 5]\n",
      "no winner yet!\n",
      "#8 eliminated\n",
      "\n",
      "The number of first place votes is currently:\n",
      "[3, 7, 8, 0, 2, 3, 0, 0, 0, 6]\n",
      "no winner yet!\n",
      "#4 eliminated\n",
      "\n",
      "The number of first place votes is currently:\n",
      "[3, 7, 8, 0, 0, 3, 0, 0, 0, 7]\n",
      "no winner yet!\n",
      "#0 eliminated using random number generation\n",
      "\n",
      "The number of first place votes is currently:\n",
      "[0, 7, 10, 0, 0, 3, 0, 0, 0, 8]\n",
      "no winner yet!\n",
      "#5 eliminated\n",
      "\n",
      "The number of first place votes is currently:\n",
      "[0, 9, 10, 0, 0, 0, 0, 0, 0, 8]\n",
      "no winner yet!\n",
      "#9 eliminated\n",
      "\n",
      "The number of first place votes is currently:\n",
      "[0, 13, 14, 0, 0, 0, 0, 0, 0, 0]\n",
      "the winner is candidate #2\n"
     ]
    },
    {
     "name": "stderr",
     "output_type": "stream",
     "text": [
      "/Users/efrembraun/miniconda3/lib/python3.5/site-packages/numpy/lib/nanfunctions.py:227: RuntimeWarning: All-NaN axis encountered\n",
      "  warnings.warn(\"All-NaN axis encountered\", RuntimeWarning)\n"
     ]
    }
   ],
   "source": [
    "candidate_status = [1 for i in range(0,num_candidates)]\n",
    "voterpref_list = copy.copy(voterpref_list_original) # So the original list doesn't get altered\n",
    "\n",
    "# If you want to remove candidates from the pool before voting starts:\n",
    "candidate_status[7]=0\n",
    "candidate_status[6]=0\n",
    "for voterpref in voterpref_list:\n",
    "    voterpref[7] = 'nan'\n",
    "    voterpref[6] = 'nan'\n",
    "\n",
    "runoff(voterpref_list)"
   ]
  },
  {
   "cell_type": "markdown",
   "metadata": {},
   "source": [
    "Candidate #2 wins. Who comes in 4th place if candidates #7, #6, and #2 aren't available?"
   ]
  },
  {
   "cell_type": "code",
   "execution_count": 7,
   "metadata": {
    "collapsed": false
   },
   "outputs": [
    {
     "name": "stdout",
     "output_type": "stream",
     "text": [
      "The number of first place votes is currently:\n",
      "[4, 8, 0, 3, 2, 3, 0, 0, 3, 6]\n",
      "no winner yet!\n",
      "#4 eliminated\n",
      "\n",
      "The number of first place votes is currently:\n",
      "[4, 8, 0, 3, 0, 3, 0, 0, 4, 6]\n",
      "no winner yet!\n",
      "#3 eliminated using random number generation\n",
      "\n",
      "The number of first place votes is currently:\n",
      "[6, 9, 0, 0, 0, 3, 0, 0, 4, 6]\n",
      "no winner yet!\n",
      "#5 eliminated\n",
      "\n",
      "The number of first place votes is currently:\n",
      "[6, 11, 0, 0, 0, 0, 0, 0, 4, 6]\n",
      "no winner yet!\n",
      "#8 eliminated\n",
      "\n",
      "The number of first place votes is currently:\n",
      "[6, 11, 0, 0, 0, 0, 0, 0, 0, 10]\n",
      "no winner yet!\n",
      "#0 eliminated\n",
      "\n",
      "The number of first place votes is currently:\n",
      "[0, 13, 0, 0, 0, 0, 0, 0, 0, 13]\n",
      "no winner yet!\n",
      "#9 eliminated using random number generation\n",
      "\n",
      "The number of first place votes is currently:\n",
      "[0, 22, 0, 0, 0, 0, 0, 0, 0, 0]\n",
      "the winner is candidate #1\n"
     ]
    },
    {
     "name": "stderr",
     "output_type": "stream",
     "text": [
      "/Users/efrembraun/miniconda3/lib/python3.5/site-packages/numpy/lib/nanfunctions.py:227: RuntimeWarning: All-NaN axis encountered\n",
      "  warnings.warn(\"All-NaN axis encountered\", RuntimeWarning)\n"
     ]
    }
   ],
   "source": [
    "candidate_status = [1 for i in range(0,num_candidates)]\n",
    "voterpref_list = copy.copy(voterpref_list_original) # So the original list doesn't get altered\n",
    "\n",
    "# If you want to remove candidates from the pool before voting starts:\n",
    "candidate_status[7]=0\n",
    "candidate_status[6]=0\n",
    "candidate_status[2]=0\n",
    "for voterpref in voterpref_list:\n",
    "    voterpref[7] = 'nan'\n",
    "    voterpref[6] = 'nan'\n",
    "    voterpref[2] = 'nan'\n",
    "\n",
    "runoff(voterpref_list)"
   ]
  },
  {
   "cell_type": "markdown",
   "metadata": {},
   "source": [
    "Candidate #9 wins. Who comes in 5th place if candidates #7, #6, #2, and #9 aren't available?"
   ]
  },
  {
   "cell_type": "code",
   "execution_count": 8,
   "metadata": {
    "collapsed": false
   },
   "outputs": [
    {
     "name": "stdout",
     "output_type": "stream",
     "text": [
      "The number of first place votes is currently:\n",
      "[4, 8, 0, 4, 2, 4, 0, 0, 7, 0]\n",
      "no winner yet!\n",
      "#4 eliminated\n",
      "\n",
      "The number of first place votes is currently:\n",
      "[4, 8, 0, 4, 0, 4, 0, 0, 8, 0]\n",
      "no winner yet!\n",
      "#5 eliminated using random number generation\n",
      "\n",
      "The number of first place votes is currently:\n",
      "[4, 10, 0, 5, 0, 0, 0, 0, 9, 0]\n",
      "no winner yet!\n",
      "#0 eliminated\n",
      "\n",
      "The number of first place votes is currently:\n",
      "[0, 11, 0, 7, 0, 0, 0, 0, 10, 0]\n",
      "no winner yet!\n",
      "#3 eliminated\n",
      "\n",
      "The number of first place votes is currently:\n",
      "[0, 13, 0, 0, 0, 0, 0, 0, 13, 0]\n",
      "no winner yet!\n",
      "#1 eliminated using random number generation\n",
      "\n"
     ]
    },
    {
     "name": "stderr",
     "output_type": "stream",
     "text": [
      "/Users/efrembraun/miniconda3/lib/python3.5/site-packages/numpy/lib/nanfunctions.py:227: RuntimeWarning: All-NaN axis encountered\n",
      "  warnings.warn(\"All-NaN axis encountered\", RuntimeWarning)\n"
     ]
    },
    {
     "name": "stdout",
     "output_type": "stream",
     "text": [
      "The number of first place votes is currently:\n",
      "[0, 0, 0, 0, 0, 0, 0, 0, 23, 0]\n",
      "the winner is candidate #8\n"
     ]
    }
   ],
   "source": [
    "candidate_status = [1 for i in range(0,num_candidates)]\n",
    "voterpref_list = copy.copy(voterpref_list_original) # So the original list doesn't get altered\n",
    "\n",
    "# If you want to remove candidates from the pool before voting starts:\n",
    "candidate_status[7]=0\n",
    "candidate_status[6]=0\n",
    "candidate_status[2]=0\n",
    "candidate_status[9]=0\n",
    "for voterpref in voterpref_list:\n",
    "    voterpref[7] = 'nan'\n",
    "    voterpref[6] = 'nan'\n",
    "    voterpref[2] = 'nan'\n",
    "    voterpref[9] = 'nan'\n",
    "    \n",
    "runoff(voterpref_list)"
   ]
  },
  {
   "cell_type": "markdown",
   "metadata": {},
   "source": [
    "Candidate #1 wins. Who comes in 6th place if candidates #7, #6, #2, #9, and #1 aren't available?"
   ]
  },
  {
   "cell_type": "code",
   "execution_count": 9,
   "metadata": {
    "collapsed": false
   },
   "outputs": [
    {
     "name": "stderr",
     "output_type": "stream",
     "text": [
      "/Users/efrembraun/miniconda3/lib/python3.5/site-packages/numpy/lib/nanfunctions.py:227: RuntimeWarning: All-NaN axis encountered\n",
      "  warnings.warn(\"All-NaN axis encountered\", RuntimeWarning)\n"
     ]
    },
    {
     "name": "stdout",
     "output_type": "stream",
     "text": [
      "The number of first place votes is currently:\n",
      "[6, 0, 0, 4, 4, 4, 0, 0, 10, 0]\n",
      "no winner yet!\n",
      "#5 eliminated using random number generation\n",
      "\n",
      "The number of first place votes is currently:\n",
      "[6, 0, 0, 5, 6, 0, 0, 0, 11, 0]\n",
      "no winner yet!\n",
      "#3 eliminated\n",
      "\n",
      "The number of first place votes is currently:\n",
      "[9, 0, 0, 0, 8, 0, 0, 0, 11, 0]\n",
      "no winner yet!\n",
      "#4 eliminated\n",
      "\n",
      "The number of first place votes is currently:\n",
      "[11, 0, 0, 0, 0, 0, 0, 0, 15, 0]\n",
      "the winner is candidate #8\n"
     ]
    }
   ],
   "source": [
    "candidate_status = [1 for i in range(0,num_candidates)]\n",
    "voterpref_list = copy.copy(voterpref_list_original) # So the original list doesn't get altered\n",
    "\n",
    "# If you want to remove candidates from the pool before voting starts:\n",
    "candidate_status[7]=0\n",
    "candidate_status[6]=0\n",
    "candidate_status[2]=0\n",
    "candidate_status[9]=0\n",
    "candidate_status[1]=0\n",
    "for voterpref in voterpref_list:\n",
    "    voterpref[7] = 'nan'\n",
    "    voterpref[6] = 'nan'\n",
    "    voterpref[2] = 'nan'\n",
    "    voterpref[9] = 'nan'\n",
    "    voterpref[1] = 'nan'\n",
    "    \n",
    "runoff(voterpref_list)"
   ]
  },
  {
   "cell_type": "markdown",
   "metadata": {},
   "source": [
    "Candidate #8 wins. Who comes in 7th place if candidates #7, #6, #2, #9, #1, and #8 aren't available?"
   ]
  },
  {
   "cell_type": "code",
   "execution_count": 10,
   "metadata": {
    "collapsed": false
   },
   "outputs": [
    {
     "name": "stdout",
     "output_type": "stream",
     "text": [
      "The number of first place votes is currently:\n",
      "[9, 0, 0, 7, 4, 8, 0, 0, 0, 0]\n",
      "no winner yet!\n",
      "#4 eliminated\n",
      "\n",
      "The number of first place votes is currently:\n",
      "[10, 0, 0, 7, 0, 9, 0, 0, 0, 0]\n",
      "no winner yet!\n",
      "#3 eliminated\n",
      "\n",
      "The number of first place votes is currently:\n",
      "[14, 0, 0, 0, 0, 10, 0, 0, 0, 0]\n",
      "the winner is candidate #0\n"
     ]
    },
    {
     "name": "stderr",
     "output_type": "stream",
     "text": [
      "/Users/efrembraun/miniconda3/lib/python3.5/site-packages/numpy/lib/nanfunctions.py:227: RuntimeWarning: All-NaN axis encountered\n",
      "  warnings.warn(\"All-NaN axis encountered\", RuntimeWarning)\n"
     ]
    }
   ],
   "source": [
    "candidate_status = [1 for i in range(0,num_candidates)]\n",
    "voterpref_list = copy.copy(voterpref_list_original) # So the original list doesn't get altered\n",
    "\n",
    "# If you want to remove candidates from the pool before voting starts:\n",
    "candidate_status[7]=0\n",
    "candidate_status[6]=0\n",
    "candidate_status[2]=0\n",
    "candidate_status[9]=0\n",
    "candidate_status[1]=0\n",
    "candidate_status[8]=0\n",
    "for voterpref in voterpref_list:\n",
    "    voterpref[7] = 'nan'\n",
    "    voterpref[6] = 'nan'\n",
    "    voterpref[2] = 'nan'\n",
    "    voterpref[9] = 'nan'\n",
    "    voterpref[1] = 'nan'\n",
    "    voterpref[8] = 'nan'\n",
    "    \n",
    "runoff(voterpref_list)"
   ]
  },
  {
   "cell_type": "markdown",
   "metadata": {},
   "source": [
    "Candidate #0 wins. Who comes in 8th place if candidates #7, #6, #2, #9, #1, #8, and #0 aren't available?"
   ]
  },
  {
   "cell_type": "code",
   "execution_count": 11,
   "metadata": {
    "collapsed": false
   },
   "outputs": [
    {
     "name": "stderr",
     "output_type": "stream",
     "text": [
      "/Users/efrembraun/miniconda3/lib/python3.5/site-packages/numpy/lib/nanfunctions.py:227: RuntimeWarning: All-NaN axis encountered\n",
      "  warnings.warn(\"All-NaN axis encountered\", RuntimeWarning)\n"
     ]
    },
    {
     "name": "stdout",
     "output_type": "stream",
     "text": [
      "The number of first place votes is currently:\n",
      "[0, 0, 0, 12, 4, 11, 0, 0, 0, 0]\n",
      "no winner yet!\n",
      "#4 eliminated\n",
      "\n",
      "The number of first place votes is currently:\n",
      "[0, 0, 0, 12, 0, 13, 0, 0, 0, 0]\n",
      "the winner is candidate #5\n"
     ]
    }
   ],
   "source": [
    "candidate_status = [1 for i in range(0,num_candidates)]\n",
    "voterpref_list = copy.copy(voterpref_list_original) # So the original list doesn't get altered\n",
    "\n",
    "# If you want to remove candidates from the pool before voting starts:\n",
    "candidate_status[7]=0\n",
    "candidate_status[6]=0\n",
    "candidate_status[2]=0\n",
    "candidate_status[9]=0\n",
    "candidate_status[1]=0\n",
    "candidate_status[8]=0\n",
    "candidate_status[0]=0\n",
    "for voterpref in voterpref_list:\n",
    "    voterpref[7] = 'nan'\n",
    "    voterpref[6] = 'nan'\n",
    "    voterpref[2] = 'nan'\n",
    "    voterpref[9] = 'nan'\n",
    "    voterpref[1] = 'nan'\n",
    "    voterpref[8] = 'nan'\n",
    "    voterpref[0] = 'nan'\n",
    "    \n",
    "runoff(voterpref_list)"
   ]
  },
  {
   "cell_type": "markdown",
   "metadata": {},
   "source": [
    "Candidate #5 wins. Who comes in 9th place if candidates #7, #6, #2, #9, #1, #8, #0, and #5 aren't available?"
   ]
  },
  {
   "cell_type": "code",
   "execution_count": 12,
   "metadata": {
    "collapsed": false
   },
   "outputs": [
    {
     "name": "stdout",
     "output_type": "stream",
     "text": [
      "The number of first place votes is currently:\n",
      "[0, 0, 0, 14, 13, 0, 0, 0, 0, 0]\n",
      "the winner is candidate #3\n"
     ]
    },
    {
     "name": "stderr",
     "output_type": "stream",
     "text": [
      "/Users/efrembraun/miniconda3/lib/python3.5/site-packages/numpy/lib/nanfunctions.py:227: RuntimeWarning: All-NaN axis encountered\n",
      "  warnings.warn(\"All-NaN axis encountered\", RuntimeWarning)\n"
     ]
    }
   ],
   "source": [
    "candidate_status = [1 for i in range(0,num_candidates)]\n",
    "voterpref_list = copy.copy(voterpref_list_original) # So the original list doesn't get altered\n",
    "\n",
    "# If you want to remove candidates from the pool before voting starts:\n",
    "candidate_status[7]=0\n",
    "candidate_status[6]=0\n",
    "candidate_status[2]=0\n",
    "candidate_status[9]=0\n",
    "candidate_status[1]=0\n",
    "candidate_status[8]=0\n",
    "candidate_status[0]=0\n",
    "candidate_status[5]=0\n",
    "for voterpref in voterpref_list:\n",
    "    voterpref[7] = 'nan'\n",
    "    voterpref[6] = 'nan'\n",
    "    voterpref[2] = 'nan'\n",
    "    voterpref[9] = 'nan'\n",
    "    voterpref[1] = 'nan'\n",
    "    voterpref[8] = 'nan'\n",
    "    voterpref[0] = 'nan'\n",
    "    voterpref[5] = 'nan'\n",
    "    \n",
    "runoff(voterpref_list)"
   ]
  },
  {
   "cell_type": "markdown",
   "metadata": {},
   "source": [
    "Candidate #3 wins."
   ]
  }
 ],
 "metadata": {
  "kernelspec": {
   "display_name": "Python 3",
   "language": "python",
   "name": "python3"
  },
  "language_info": {
   "codemirror_mode": {
    "name": "ipython",
    "version": 3
   },
   "file_extension": ".py",
   "mimetype": "text/x-python",
   "name": "python",
   "nbconvert_exporter": "python",
   "pygments_lexer": "ipython3",
   "version": "3.5.3"
  }
 },
 "nbformat": 4,
 "nbformat_minor": 0
}
