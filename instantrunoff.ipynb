{
 "cells": [
  {
   "cell_type": "code",
   "execution_count": 1,
   "metadata": {
    "collapsed": false
   },
   "outputs": [
    {
     "name": "stdout",
     "output_type": "stream",
     "text": [
      "array([[  7.,   2.,   8.,   4.,   3.,   1.,   6.,   5.,  nan,  nan],\n",
      "       [ nan,   1.,   2.,  nan,  nan,  nan,  nan,  nan,  nan,  nan],\n",
      "       [  3.,   4.,   2.,   6.,  nan,  nan,   1.,   5.,   8.,  nan],\n",
      "       [ nan,  nan,   3.,   6.,  nan,  nan,   1.,   2.,   4.,  nan],\n",
      "       [  1.,   7.,   5.,   6.,  10.,   9.,   8.,   4.,   3.,  nan],\n",
      "       [ nan,  nan,  nan,  nan,  10.,  nan,  nan,  nan,  nan,  nan],\n",
      "       [ nan,   1.,  nan,  nan,   2.,  nan,   3.,   4.,   5.,  nan],\n",
      "       [ nan,  nan,  nan,   2.,   3.,   1.,  nan,  nan,  nan,  nan],\n",
      "       [  1.,   7.,   4.,   5.,   6.,   8.,   2.,   3.,   9.,  nan],\n",
      "       [ nan,   1.,  nan,   7.,   6.,   4.,  nan,   5.,   3.,  nan],\n",
      "       [  6.,   9.,   4.,   5.,  10.,   8.,   3.,   1.,   7.,  nan],\n",
      "       [ nan,   2.,  nan,   1.,   4.,   3.,  nan,   5.,   6.,  nan],\n",
      "       [  3.,   1.,   4.,   9.,  10.,   8.,   7.,   2.,   6.,  nan],\n",
      "       [ 10.,   5.,   9.,   8.,   7.,   2.,   6.,   4.,   3.,  nan],\n",
      "       [  2.,   1.,  nan,  nan,   4.,   3.,  nan,  nan,  nan,  nan],\n",
      "       [  4.,  nan,   2.,   3.,  nan,  nan,   1.,  nan,  nan,  nan],\n",
      "       [  7.,   3.,   4.,   8.,  10.,   9.,   1.,   2.,   5.,  nan],\n",
      "       [  7.,   4.,   3.,  10.,   9.,   8.,   1.,   2.,   6.,  nan],\n",
      "       [ nan,  nan,  nan,  nan,  nan,  nan,  nan,   1.,  nan,  nan],\n",
      "       [ nan,   4.,   6.,  nan,   8.,   5.,   3.,   7.,   2.,  nan],\n",
      "       [ nan,  nan,   3.,   6.,  nan,  nan,   1.,   2.,   4.,  nan]])\n"
     ]
    }
   ],
   "source": [
    "import random\n",
    "from pprint import pprint\n",
    "import copy\n",
    "import numpy as np\n",
    "\n",
    "num_candidates=10\n",
    "\n",
    "voterpref_list_original = np.genfromtxt('Student-Invited Speaker Voting 2017.csv', delimiter='\\\",\\\"', skip_header=1, usecols=np.arange(1,num_candidates+1))\n",
    "pprint(voterpref_list_original)"
   ]
  },
  {
   "cell_type": "code",
   "execution_count": 2,
   "metadata": {
    "collapsed": false
   },
   "outputs": [],
   "source": [
    "def runoff(voterpref_list):\n",
    "    winner = False\n",
    "    while not winner:\n",
    "        # determine how many first-choice votes each candidate has\n",
    "        candidate_votes = [0 for i in range(0,num_candidates)]\n",
    "        for voterpref in voterpref_list:\n",
    "            for candidate,rank in enumerate(voterpref):\n",
    "                if rank == np.nanmin(voterpref):\n",
    "                    candidate_votes[candidate] += 1\n",
    "                    break;\n",
    "        print('The number of first place votes is currently:')\n",
    "        pprint(candidate_votes)\n",
    "\n",
    "        # determine if a candidate has the majority of first-place votes and has won\n",
    "        winner = False\n",
    "        num_activevotes = sum(candidate_votes)\n",
    "        for candidate,num_firstplacevotes in enumerate(candidate_votes):\n",
    "            if num_firstplacevotes > num_activevotes / 2:\n",
    "                print('the winner is candidate #' + str(candidate))\n",
    "                winner = True\n",
    "                break;\n",
    "        if (not winner):\n",
    "            print('no winner yet!')\n",
    "        else:\n",
    "            break;\n",
    "\n",
    "        # determine the candidates with the fewest first-place votes\n",
    "        round_loser_list = []\n",
    "        round_vote_threshold = sum(candidate_votes)\n",
    "        for candidate,num_firstplacevotes in enumerate(candidate_votes):\n",
    "            if candidate_status[candidate] == 1:\n",
    "                if num_firstplacevotes < round_vote_threshold:\n",
    "                    round_vote_threshold = num_firstplacevotes\n",
    "\n",
    "        for candidate,num_firstplacevotes in enumerate(candidate_votes):\n",
    "            if candidate_status[candidate] == 1:\n",
    "                if num_firstplacevotes == round_vote_threshold:\n",
    "                    round_loser_list.append(candidate)\n",
    "        #pprint(round_loser_list)\n",
    "\n",
    "        # if there are multiple losers, randomly eliminate one\n",
    "        round_loser = random.sample(round_loser_list,1)[0]\n",
    "        candidate_status[round_loser] = 0\n",
    "        if len(round_loser_list) > 1:\n",
    "            print('#' + str(round_loser) + ' eliminated using random number generation')\n",
    "        else:\n",
    "            print('#' + str(round_loser) + ' eliminated')\n",
    "        print('')\n",
    "        #pprint(candidate_status)\n",
    "\n",
    "        # eliminate the loser from all voters' preferences\n",
    "        for voterpref in voterpref_list:\n",
    "            voterpref[round_loser] = 'nan'\n"
   ]
  },
  {
   "cell_type": "code",
   "execution_count": 5,
   "metadata": {
    "collapsed": false
   },
   "outputs": [
    {
     "name": "stdout",
     "output_type": "stream",
     "text": [
      "The number of first place votes is currently:\n",
      "[2, 5, 0, 1, 1, 3, 6, 2, 1, 0]\n",
      "no winner yet!\n",
      "#2 eliminated using random number generation\n",
      "\n",
      "The number of first place votes is currently:\n",
      "[2, 5, 0, 1, 1, 3, 6, 2, 1, 0]\n",
      "no winner yet!\n",
      "#9 eliminated\n",
      "\n",
      "The number of first place votes is currently:\n",
      "[2, 5, 0, 1, 1, 3, 6, 2, 1, 0]\n",
      "no winner yet!\n",
      "#3 eliminated using random number generation\n",
      "\n",
      "The number of first place votes is currently:\n",
      "[2, 6, 0, 0, 1, 3, 6, 2, 1, 0]\n",
      "no winner yet!\n",
      "#8 eliminated using random number generation\n",
      "\n",
      "The number of first place votes is currently:\n",
      "[2, 6, 0, 0, 1, 3, 7, 2, 0, 0]\n",
      "no winner yet!\n",
      "#4 eliminated\n",
      "\n",
      "The number of first place votes is currently:\n",
      "[2, 6, 0, 0, 0, 3, 7, 2, 0, 0]\n",
      "no winner yet!\n",
      "#7 eliminated using random number generation\n",
      "\n",
      "The number of first place votes is currently:\n",
      "[2, 6, 0, 0, 0, 3, 8, 0, 0, 0]\n",
      "no winner yet!\n",
      "#0 eliminated\n",
      "\n",
      "The number of first place votes is currently:\n",
      "[0, 7, 0, 0, 0, 3, 9, 0, 0, 0]\n",
      "no winner yet!\n",
      "#5 eliminated\n",
      "\n",
      "The number of first place votes is currently:\n",
      "[0, 9, 0, 0, 0, 0, 9, 0, 0, 0]\n",
      "no winner yet!\n",
      "#1 eliminated using random number generation\n",
      "\n",
      "The number of first place votes is currently:\n",
      "[0, 0, 0, 0, 0, 0, 14, 0, 0, 0]\n",
      "the winner is candidate #6\n"
     ]
    },
    {
     "name": "stderr",
     "output_type": "stream",
     "text": [
      "/Users/efrembraun/miniconda3/lib/python3.5/site-packages/numpy/lib/nanfunctions.py:227: RuntimeWarning: All-NaN axis encountered\n",
      "  warnings.warn(\"All-NaN axis encountered\", RuntimeWarning)\n"
     ]
    }
   ],
   "source": [
    "candidate_status = [1 for i in range(0,num_candidates)]\n",
    "voterpref_list = copy.copy(voterpref_list_original) # So the original list doesn't get altered\n",
    "\n",
    "# If you want to remove candidates from the pool before voting starts: (e.g., here I do so for candidates 1 and 0)\n",
    "#candidate_status[1]=0\n",
    "#candidate_status[0]=0\n",
    "#for voterpref in voterpref_list:\n",
    "#    voterpref[1] = 'nan'\n",
    "#    voterpref[0] = 'nan'\n",
    "\n",
    "runoff(voterpref_list)"
   ]
  },
  {
   "cell_type": "code",
   "execution_count": 6,
   "metadata": {
    "collapsed": false
   },
   "outputs": [
    {
     "name": "stdout",
     "output_type": "stream",
     "text": [
      "The number of first place votes is currently:\n",
      "[3, 0, 3, 1, 2, 3, 0, 7, 2, 0]\n",
      "no winner yet!\n",
      "#9 eliminated\n",
      "\n",
      "The number of first place votes is currently:\n",
      "[3, 0, 3, 1, 2, 3, 0, 7, 2, 0]\n",
      "no winner yet!\n",
      "#3 eliminated\n",
      "\n",
      "The number of first place votes is currently:\n",
      "[3, 0, 3, 0, 2, 4, 0, 7, 2, 0]\n",
      "no winner yet!\n",
      "#4 eliminated using random number generation\n",
      "\n",
      "The number of first place votes is currently:\n",
      "[3, 0, 3, 0, 0, 4, 0, 8, 2, 0]\n",
      "no winner yet!\n",
      "#8 eliminated\n",
      "\n",
      "The number of first place votes is currently:\n",
      "[3, 0, 3, 0, 0, 6, 0, 8, 0, 0]\n",
      "no winner yet!\n",
      "#0 eliminated using random number generation\n",
      "\n",
      "The number of first place votes is currently:\n",
      "[0, 0, 3, 0, 0, 7, 0, 10, 0, 0]\n",
      "no winner yet!\n",
      "#2 eliminated\n",
      "\n",
      "The number of first place votes is currently:\n",
      "[0, 0, 0, 0, 0, 7, 0, 11, 0, 0]\n",
      "the winner is candidate #7\n"
     ]
    },
    {
     "name": "stderr",
     "output_type": "stream",
     "text": [
      "/Users/efrembraun/miniconda3/lib/python3.5/site-packages/numpy/lib/nanfunctions.py:227: RuntimeWarning: All-NaN axis encountered\n",
      "  warnings.warn(\"All-NaN axis encountered\", RuntimeWarning)\n"
     ]
    }
   ],
   "source": [
    "candidate_status = [1 for i in range(0,num_candidates)]\n",
    "voterpref_list = copy.copy(voterpref_list_original) # So the original list doesn't get altered\n",
    "\n",
    "# If you want to remove candidates from the pool before voting starts:\n",
    "candidate_status[1]=0\n",
    "candidate_status[6]=0\n",
    "for voterpref in voterpref_list:\n",
    "    voterpref[1] = 'nan'\n",
    "    voterpref[6] = 'nan'\n",
    "\n",
    "runoff(voterpref_list)"
   ]
  },
  {
   "cell_type": "code",
   "execution_count": null,
   "metadata": {
    "collapsed": true
   },
   "outputs": [],
   "source": []
  }
 ],
 "metadata": {
  "kernelspec": {
   "display_name": "Python 3",
   "language": "python",
   "name": "python3"
  },
  "language_info": {
   "codemirror_mode": {
    "name": "ipython",
    "version": 3
   },
   "file_extension": ".py",
   "mimetype": "text/x-python",
   "name": "python",
   "nbconvert_exporter": "python",
   "pygments_lexer": "ipython3",
   "version": "3.5.3"
  }
 },
 "nbformat": 4,
 "nbformat_minor": 0
}
